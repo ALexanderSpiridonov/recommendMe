{
 "cells": [
  {
   "cell_type": "code",
   "execution_count": 41,
   "metadata": {
    "collapsed": false
   },
   "outputs": [
    {
     "ename": "ImportError",
     "evalue": "No module named 'tqdm'",
     "output_type": "error",
     "traceback": [
      "\u001b[1;31m---------------------------------------------------------------------------\u001b[0m",
      "\u001b[1;31mImportError\u001b[0m                               Traceback (most recent call last)",
      "\u001b[1;32m<ipython-input-41-066fea6bac35>\u001b[0m in \u001b[0;36m<module>\u001b[1;34m()\u001b[0m\n\u001b[0;32m      2\u001b[0m \u001b[1;32mimport\u001b[0m \u001b[0mpandas\u001b[0m \u001b[1;32mas\u001b[0m \u001b[0mpd\u001b[0m\u001b[1;33m\u001b[0m\u001b[0m\n\u001b[0;32m      3\u001b[0m \u001b[1;32mimport\u001b[0m \u001b[0mrandom\u001b[0m\u001b[1;33m\u001b[0m\u001b[0m\n\u001b[1;32m----> 4\u001b[1;33m \u001b[1;32mimport\u001b[0m \u001b[0mtqdm\u001b[0m\u001b[1;33m\u001b[0m\u001b[0m\n\u001b[0m",
      "\u001b[1;31mImportError\u001b[0m: No module named 'tqdm'"
     ]
    }
   ],
   "source": [
    "import vk\n",
    "import pandas as pd\n",
    "import random\n",
    "import tqdm"
   ]
  },
  {
   "cell_type": "code",
   "execution_count": 17,
   "metadata": {
    "collapsed": false,
    "scrolled": true
   },
   "outputs": [],
   "source": [
    "friends = vk.get_friends(\"1\")\n",
    "movies = []\n",
    "count = 0\n",
    "\n",
    "for friend in friends: \n",
    "    if count >= 5:\n",
    "        break\n",
    "    info = vk.get_users_info([friend])\n",
    "    if \"movies\" in info[str(friend)].keys() and info[str(friend)][\"movies\"] != \"\":\n",
    "        movies.append(info[str(friend)][\"movies\"])\n",
    "        count += 1"
   ]
  },
  {
   "cell_type": "code",
   "execution_count": 18,
   "metadata": {
    "collapsed": true
   },
   "outputs": [],
   "source": [
    "def split_movies(movies):\n",
    "    mov = []\n",
    "    for friend_movies in movies:\n",
    "        l = friend_movies.split(\",\")\n",
    "        for x in l:\n",
    "            mov.append(x)\n",
    "    return mov\n",
    "\n",
    "def get_close_movies(id):\n",
    "    id = str(id)\n",
    "    movies = []\n",
    "    \n",
    "    ui = vk.get_users_info([id])\n",
    "    \n",
    "    #Add users movies\n",
    "    \n",
    "    if \"movies\" in ui[id].keys() and ui[id][\"movies\"] != \"\":\n",
    "        m = ui[id][\"movies\"].split(\",\")\n",
    "        for x in m:\n",
    "            movies.append(x)\n",
    "    \n",
    "    #Add friends movies\n",
    "    \n",
    "    \n",
    "    return movies"
   ]
  },
  {
   "cell_type": "code",
   "execution_count": 70,
   "metadata": {
    "collapsed": false
   },
   "outputs": [
    {
     "data": {
      "text/plain": [
       "[]"
      ]
     },
     "execution_count": 70,
     "metadata": {},
     "output_type": "execute_result"
    }
   ],
   "source": [
    "get_close_movies(4535)"
   ]
  },
  {
   "cell_type": "code",
   "execution_count": 58,
   "metadata": {
    "collapsed": false
   },
   "outputs": [],
   "source": [
    "def get_data(id, n, min_num_of_movies=3):\n",
    "    count = 0\n",
    "    movies = pd.Series()\n",
    "    last_id = 0\n",
    "    \n",
    "    while movies.size < n:\n",
    "        \n",
    "        index = 0\n",
    "        f = vk.get_friends(str(id))\n",
    "\n",
    "        friends = []\n",
    "        for x in f:\n",
    "            friends.append(str(x))\n",
    "        for friend in friends:\n",
    "            if movies.size >= n:\n",
    "                break\n",
    "                \n",
    "            user_info = vk.get_users_info([friend])\n",
    "\n",
    "            if (\"movies\" in user_info[friend].keys() \n",
    "                and len(user_info[friend][\"movies\"]) >= min_num_of_movies\n",
    "                and not friend in movies.keys()\n",
    "                and len(friends) >= 5):\n",
    "                movies.set_value(index, user_info[friend][\"movies\"].split(\",\"))\n",
    "                index += 1\n",
    "                print(friend)\n",
    "        print(\"Index: \" + str(movies.size))\n",
    "        print(\"Id: \" + str(id))\n",
    "        print(\"Last id: \" + str(last_id))\n",
    "        if movies.size < n:\n",
    "            ind = random.randint(0, len(friends))\n",
    "            if last_id == friends[ind]:\n",
    "                ind = random.randint(0, len(friends))\n",
    "            last_id = id\n",
    "            id = friends[ind]\n",
    "            \n",
    "    return movies"
   ]
  },
  {
   "cell_type": "code",
   "execution_count": 59,
   "metadata": {
    "collapsed": false,
    "scrolled": true
   },
   "outputs": [
    {
     "name": "stdout",
     "output_type": "stream",
     "text": [
      "54\n",
      "193\n",
      "194\n",
      "237\n",
      "1634\n",
      "2745\n",
      "3148\n",
      "3420\n",
      "4016\n",
      "4231\n",
      "4766\n",
      "4923\n",
      "5333\n",
      "5524\n",
      "6099\n",
      "6413\n",
      "7990\n",
      "11191\n",
      "13033\n",
      "13557\n",
      "15221\n",
      "15496\n",
      "15740\n",
      "16990\n",
      "36555\n",
      "43857\n",
      "59628\n",
      "66559\n",
      "83813\n",
      "88111\n",
      "88324\n",
      "93588\n",
      "94627\n",
      "95602\n",
      "122376\n",
      "172823\n",
      "180083\n",
      "184760\n",
      "213623\n",
      "248780\n",
      "465975\n",
      "466034\n",
      "466934\n",
      "517780\n",
      "530053\n",
      "533796\n",
      "551225\n",
      "638391\n",
      "788746\n",
      "820969\n",
      "823293\n",
      "833249\n",
      "859412\n",
      "896232\n",
      "904047\n",
      "938889\n",
      "1120176\n",
      "1235202\n",
      "1549462\n",
      "1666872\n",
      "1708231\n",
      "1826463\n",
      "1856843\n",
      "1987761\n",
      "2080736\n",
      "2426092\n",
      "2452501\n",
      "2562137\n",
      "2677959\n",
      "3092814\n",
      "3240642\n",
      "3883830\n",
      "3930504\n",
      "4029573\n",
      "4926666\n",
      "5005272\n",
      "5257328\n",
      "6125743\n",
      "7235762\n",
      "8611282\n",
      "9078753\n",
      "9522403\n",
      "10038567\n",
      "11032244\n",
      "12102180\n",
      "12370373\n",
      "12695418\n",
      "12992757\n",
      "13963740\n",
      "15907326\n",
      "15915916\n",
      "16350900\n",
      "18425009\n",
      "19187792\n",
      "19605469\n",
      "20020126\n",
      "33709966\n",
      "41110630\n",
      "41623786\n",
      "49286014\n",
      "Index: 100\n",
      "Id: 1\n",
      "Last id: 0\n"
     ]
    }
   ],
   "source": [
    "train_data = get_data(1, 100)"
   ]
  },
  {
   "cell_type": "code",
   "execution_count": 60,
   "metadata": {
    "collapsed": false,
    "scrolled": true
   },
   "outputs": [
    {
     "data": {
      "text/plain": [
       "0     [Мертвец,  Бойцовский клуб,  Королевская битва...\n",
       "1     [Vanilla Sky,  I Robot,  Idiocracy,  Lock,  st...\n",
       "2      [«Карты,  деньги,  два ствола»,  и много других]\n",
       "3     [Rosencrantz and Guildenstern are dead,  весте...\n",
       "4     [\"О чем говорят мужчины\",  \"Мистер и миссис См...\n",
       "5     [Ванильное небо,  Дом у озера,  Двухсотлетний ...\n",
       "6     [Малхолланд Драйв,  Человек которого не было, ...\n",
       "7                                         [Эквилибриум]\n",
       "8     [Человек с киноаппаратом,  Modern Times,  The ...\n",
       "9     [Бойцовский клуб,  Матрица,  Плезентвиль,  Тра...\n",
       "10    [The Matrix,  Ocean's Eleven,  Guy Ritchie,  F...\n",
       "11    [Thomas Crown Affair,  Schindler's List,  Godf...\n",
       "12         [День Сурка,  Трасса 60,  Побег из Шоушенка]\n",
       "13                        [The Game (by David Fincher)]\n",
       "14    [Devil's advocate,  Valhalla rising,  Revenger...\n",
       "15                           [Ferris Bueller's Day Off]\n",
       "16    [Красота по-американски,  Стиляги,  Across the...\n",
       "17                     [Профессионал,  Назад в Будущее]\n",
       "18                [The Curious Case of Benjamin Button]\n",
       "19    [Даун Хаус,  Шапито Шоу,  Иваново Детство,  Ка...\n",
       "20                                          [Тарантино]\n",
       "21    [Бойцовский клуб,  Аризонская мечта,  Сталкер,...\n",
       "22                                         [Hot Shots!]\n",
       "23    [Casablanca,  The Matrix,  North By Northwest,...\n",
       "24    [Все фильмы Эдриана Лайна. Последние фильмы с ...\n",
       "25    [La Sortie de l'usine Lumière à Lyon,  ,  l'Ar...\n",
       "26    [Fight Club,  Cruel Intentions,  Евротур,  Кри...\n",
       "27    [South Park,  Тот Самый Мюнхгаузен,  Yellow Su...\n",
       "28      [http://www.kinopoisk.ru/level/79/user/995497/]\n",
       "29    [Назад в будущее,  Призрак,  Грязные танцы,  Ш...\n",
       "                            ...                        \n",
       "70    [Бойцовский Клуб,  V значит Вендетта,  Влюбись...\n",
       "71             [Mr Nobody (на февраль 2011),  Рассказы]\n",
       "72    [In Bruges,  Into The Wild,  There Will Be Blood]\n",
       "73                             [см. альбом \"КИНОПОИСК\"]\n",
       "74        [Сериал \"Визитеры\" и сериал \"Тайны Смолвиля\"]\n",
       "75    [Waking Life,  Amelie,  Весна-лето-осень-зима,...\n",
       "76    [\"Гудзонский ястреб\" на языке оригинала,  и ещ...\n",
       "77    [The Good The Bad and The Ugly,  Casablanca,  ...\n",
       "78    [http://bananastreet.ru/djmaniak\\nwww.luxury-m...\n",
       "79    [\"Соблазн\",  \"Основной  инстинкт\",  \"Неудержим...\n",
       "80                 [The Sting/Афера,  God Father 1-2-3]\n",
       "81    [Английский пациент,  Gia,  Сладкий Ноябрь,  С...\n",
       "82                         [99 франков,  Трон (первый)]\n",
       "83    [Однажды,  День сурка,  Проблеск гениальности,...\n",
       "84    [Law Abiding Citizen,  Le Fabuleux destin d'Am...\n",
       "85    [\"Сталкер\" А. Тарковского,  \"Полеты во сне и н...\n",
       "86                                    [Властелин Колец]\n",
       "87    [Фильмы Рязанова,  Игры разума,  Гладиатор,  Л...\n",
       "88    [Планета Ка-Пэкс. Форрест Гамп.Звуки шума. Дон...\n",
       "89                                  [АССА,  Fallen art]\n",
       "90                     [Interstate 60,  Legally Blonde]\n",
       "91    [Blow-up,  В прошлом году в Мариенбаде,  Книги...\n",
       "92                          [С бюджетом больше 10 M $.]\n",
       "93    [«Зелёная миля»,  «Матрица»,  «Ангелы и демоны...\n",
       "94    [Песня для изгоя/Song for a raggy boy(2003),  ...\n",
       "95    [Люблю фильмы Тенгиза Абуладзе,  Стивена Спилб...\n",
       "96    [\"Трудности перевода\",  \"Даун Хаус\",  \"Три ист...\n",
       "97          [Зеленая миля,  Книга Илая,  Запах женщины]\n",
       "98    [Saving Private Ryan,  City of Angels,  Superm...\n",
       "99    [Слоган,  Унесенные ветром,  Завтрак у Тиффани...\n",
       "dtype: object"
      ]
     },
     "execution_count": 60,
     "metadata": {},
     "output_type": "execute_result"
    }
   ],
   "source": [
    "train_data"
   ]
  },
  {
   "cell_type": "code",
   "execution_count": 62,
   "metadata": {
    "collapsed": false
   },
   "outputs": [
    {
     "data": {
      "text/plain": [
       "['data']"
      ]
     },
     "execution_count": 62,
     "metadata": {},
     "output_type": "execute_result"
    }
   ],
   "source": [
    "from sklearn.externals import joblib\n",
    "joblib.dump(train_data, filename=\"data\", compress=9)"
   ]
  },
  {
   "cell_type": "code",
   "execution_count": 49,
   "metadata": {
    "collapsed": false
   },
   "outputs": [],
   "source": [
    "data = joblib.load(\"data\")"
   ]
  },
  {
   "cell_type": "code",
   "execution_count": 66,
   "metadata": {
    "collapsed": false,
    "scrolled": true
   },
   "outputs": [
    {
     "data": {
      "text/plain": [
       "0     [Мертвец,  Бойцовский клуб,  Королевская битва...\n",
       "1     [Vanilla Sky,  I Robot,  Idiocracy,  Lock,  st...\n",
       "2      [«Карты,  деньги,  два ствола»,  и много других]\n",
       "3     [Rosencrantz and Guildenstern are dead,  весте...\n",
       "4     [\"О чем говорят мужчины\",  \"Мистер и миссис См...\n",
       "5     [Ванильное небо,  Дом у озера,  Двухсотлетний ...\n",
       "6     [Малхолланд Драйв,  Человек которого не было, ...\n",
       "7                                         [Эквилибриум]\n",
       "8     [Человек с киноаппаратом,  Modern Times,  The ...\n",
       "9     [Бойцовский клуб,  Матрица,  Плезентвиль,  Тра...\n",
       "10    [The Matrix,  Ocean's Eleven,  Guy Ritchie,  F...\n",
       "11    [Thomas Crown Affair,  Schindler's List,  Godf...\n",
       "12         [День Сурка,  Трасса 60,  Побег из Шоушенка]\n",
       "13                        [The Game (by David Fincher)]\n",
       "14    [Devil's advocate,  Valhalla rising,  Revenger...\n",
       "15                           [Ferris Bueller's Day Off]\n",
       "16    [Красота по-американски,  Стиляги,  Across the...\n",
       "17                     [Профессионал,  Назад в Будущее]\n",
       "18                [The Curious Case of Benjamin Button]\n",
       "19    [Даун Хаус,  Шапито Шоу,  Иваново Детство,  Ка...\n",
       "20                                          [Тарантино]\n",
       "21    [Бойцовский клуб,  Аризонская мечта,  Сталкер,...\n",
       "22                                         [Hot Shots!]\n",
       "23    [Casablanca,  The Matrix,  North By Northwest,...\n",
       "24    [Все фильмы Эдриана Лайна. Последние фильмы с ...\n",
       "25    [La Sortie de l'usine Lumière à Lyon,  ,  l'Ar...\n",
       "26    [Fight Club,  Cruel Intentions,  Евротур,  Кри...\n",
       "27    [South Park,  Тот Самый Мюнхгаузен,  Yellow Su...\n",
       "28      [http://www.kinopoisk.ru/level/79/user/995497/]\n",
       "29    [Назад в будущее,  Призрак,  Грязные танцы,  Ш...\n",
       "                            ...                        \n",
       "70    [Бойцовский Клуб,  V значит Вендетта,  Влюбись...\n",
       "71             [Mr Nobody (на февраль 2011),  Рассказы]\n",
       "72    [In Bruges,  Into The Wild,  There Will Be Blood]\n",
       "73                             [см. альбом \"КИНОПОИСК\"]\n",
       "74        [Сериал \"Визитеры\" и сериал \"Тайны Смолвиля\"]\n",
       "75    [Waking Life,  Amelie,  Весна-лето-осень-зима,...\n",
       "76    [\"Гудзонский ястреб\" на языке оригинала,  и ещ...\n",
       "77    [The Good The Bad and The Ugly,  Casablanca,  ...\n",
       "78    [http://bananastreet.ru/djmaniak\\nwww.luxury-m...\n",
       "79    [\"Соблазн\",  \"Основной  инстинкт\",  \"Неудержим...\n",
       "80                 [The Sting/Афера,  God Father 1-2-3]\n",
       "81    [Английский пациент,  Gia,  Сладкий Ноябрь,  С...\n",
       "82                         [99 франков,  Трон (первый)]\n",
       "83    [Однажды,  День сурка,  Проблеск гениальности,...\n",
       "84    [Law Abiding Citizen,  Le Fabuleux destin d'Am...\n",
       "85    [\"Сталкер\" А. Тарковского,  \"Полеты во сне и н...\n",
       "86                                    [Властелин Колец]\n",
       "87    [Фильмы Рязанова,  Игры разума,  Гладиатор,  Л...\n",
       "88    [Планета Ка-Пэкс. Форрест Гамп.Звуки шума. Дон...\n",
       "89                                  [АССА,  Fallen art]\n",
       "90                     [Interstate 60,  Legally Blonde]\n",
       "91    [Blow-up,  В прошлом году в Мариенбаде,  Книги...\n",
       "92                          [С бюджетом больше 10 M $.]\n",
       "93    [«Зелёная миля»,  «Матрица»,  «Ангелы и демоны...\n",
       "94    [Песня для изгоя/Song for a raggy boy(2003),  ...\n",
       "95    [Люблю фильмы Тенгиза Абуладзе,  Стивена Спилб...\n",
       "96    [\"Трудности перевода\",  \"Даун Хаус\",  \"Три ист...\n",
       "97          [Зеленая миля,  Книга Илая,  Запах женщины]\n",
       "98    [Saving Private Ryan,  City of Angels,  Superm...\n",
       "99    [Слоган,  Унесенные ветром,  Завтрак у Тиффани...\n",
       "dtype: object"
      ]
     },
     "execution_count": 66,
     "metadata": {},
     "output_type": "execute_result"
    }
   ],
   "source": [
    "train_data"
   ]
  },
  {
   "cell_type": "code",
   "execution_count": 67,
   "metadata": {
    "collapsed": false
   },
   "outputs": [],
   "source": [
    "unique_movies = pd.Series()\n",
    "index = 0\n",
    "for movies in train_data:\n",
    "    for movie in movies:\n",
    "        if not movie in unique_movies:\n",
    "            unique_movies.set_value(index, movie)\n",
    "            index += 1"
   ]
  },
  {
   "cell_type": "code",
   "execution_count": 87,
   "metadata": {
    "collapsed": false,
    "scrolled": true
   },
   "outputs": [
    {
     "data": {
      "text/plain": [
       "771"
      ]
     },
     "execution_count": 87,
     "metadata": {},
     "output_type": "execute_result"
    }
   ],
   "source": [
    "len(unique_movies)"
   ]
  },
  {
   "cell_type": "code",
   "execution_count": 70,
   "metadata": {
    "collapsed": true
   },
   "outputs": [],
   "source": [
    "from scipy.sparse import csr_matrix\n",
    "from numpy import array"
   ]
  },
  {
   "cell_type": "code",
   "execution_count": 84,
   "metadata": {
    "collapsed": false
   },
   "outputs": [
    {
     "data": {
      "text/plain": [
       "11"
      ]
     },
     "execution_count": 84,
     "metadata": {},
     "output_type": "execute_result"
    }
   ],
   "source": [
    "unique_movies[unique_movies == \"Vanilla Sky\"].index[0]"
   ]
  },
  {
   "cell_type": "code",
   "execution_count": 85,
   "metadata": {
    "collapsed": false
   },
   "outputs": [],
   "source": [
    "row = []\n",
    "column = []\n",
    "\n",
    "for user in train_data.keys():\n",
    "    for movie in train_data[user]:\n",
    "        row.append(user)\n",
    "        column.append(unique_movies[unique_movies == movie].index[0])"
   ]
  },
  {
   "cell_type": "code",
   "execution_count": 90,
   "metadata": {
    "collapsed": false
   },
   "outputs": [],
   "source": [
    "data = [1] * len(row)\n",
    "movies_matrix = csr_matrix((data, (row, column)), shape=(len(train_data), len(unique_movies)))"
   ]
  },
  {
   "cell_type": "code",
   "execution_count": null,
   "metadata": {
    "collapsed": false
   },
   "outputs": [],
   "source": []
  }
 ],
 "metadata": {
  "anaconda-cloud": {},
  "kernelspec": {
   "display_name": "Python [Root]",
   "language": "python",
   "name": "Python [Root]"
  },
  "language_info": {
   "codemirror_mode": {
    "name": "ipython",
    "version": 3
   },
   "file_extension": ".py",
   "mimetype": "text/x-python",
   "name": "python",
   "nbconvert_exporter": "python",
   "pygments_lexer": "ipython3",
   "version": "3.5.2"
  }
 },
 "nbformat": 4,
 "nbformat_minor": 0
}
